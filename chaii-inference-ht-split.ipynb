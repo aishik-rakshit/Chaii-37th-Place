{
 "cells": [
  {
   "cell_type": "code",
   "execution_count": 1,
   "id": "98866f6d",
   "metadata": {
    "execution": {
     "iopub.execute_input": "2021-11-11T22:00:49.906564Z",
     "iopub.status.busy": "2021-11-11T22:00:49.905041Z",
     "iopub.status.idle": "2021-11-11T22:01:00.639778Z",
     "shell.execute_reply": "2021-11-11T22:01:00.640195Z",
     "shell.execute_reply.started": "2021-11-11T20:38:47.739117Z"
    },
    "papermill": {
     "duration": 10.757538,
     "end_time": "2021-11-11T22:01:00.640485",
     "exception": false,
     "start_time": "2021-11-11T22:00:49.882947",
     "status": "completed"
    },
    "tags": []
   },
   "outputs": [
    {
     "name": "stderr",
     "output_type": "stream",
     "text": [
      "2021-11-11 22:00:55.932836: I tensorflow/stream_executor/platform/default/dso_loader.cc:49] Successfully opened dynamic library libcudart.so.11.0\n"
     ]
    },
    {
     "name": "stdout",
     "output_type": "stream",
     "text": [
      "Apex AMP Installed :: False\n"
     ]
    }
   ],
   "source": [
    "import os\n",
    "os.environ[\"TOKENIZERS_PARALLELISM\"] = \"false\"\n",
    "import gc\n",
    "gc.enable()\n",
    "import math\n",
    "import json\n",
    "import time\n",
    "import random\n",
    "import multiprocessing\n",
    "import warnings\n",
    "warnings.filterwarnings(\"ignore\", category=UserWarning)\n",
    "\n",
    "import numpy as np\n",
    "import pandas as pd\n",
    "from tqdm import tqdm, trange\n",
    "from sklearn import model_selection\n",
    "from string import punctuation\n",
    "\n",
    "import torch\n",
    "import torch.nn as nn\n",
    "import torch.nn.functional as F\n",
    "from torch.nn import Parameter\n",
    "import torch.optim as optim\n",
    "from torch.utils.data import (\n",
    "    Dataset, DataLoader,\n",
    "    SequentialSampler, RandomSampler\n",
    ")\n",
    "from torch.utils.data.distributed import DistributedSampler\n",
    "\n",
    "try:\n",
    "    from apex import amp\n",
    "    APEX_INSTALLED = True\n",
    "except ImportError:\n",
    "    APEX_INSTALLED = False\n",
    "\n",
    "import transformers\n",
    "from transformers import (\n",
    "    WEIGHTS_NAME,\n",
    "    AdamW,\n",
    "    AutoConfig,\n",
    "    AutoModel,\n",
    "    AutoTokenizer,\n",
    "    get_cosine_schedule_with_warmup,\n",
    "    get_linear_schedule_with_warmup,\n",
    "    logging,\n",
    "    MODEL_FOR_QUESTION_ANSWERING_MAPPING,\n",
    ")\n",
    "logging.set_verbosity_warning()\n",
    "logging.set_verbosity_error()\n",
    "\n",
    "# Now Create Function\n",
    "\n",
    "def fix_all_seeds(seed):\n",
    "    np.random.seed(seed)\n",
    "    random.seed(seed)\n",
    "    os.environ['PYTHONHASHSEED'] = str(seed)\n",
    "    torch.manual_seed(seed)\n",
    "    torch.cuda.manual_seed(seed)\n",
    "    torch.cuda.manual_seed_all(seed)\n",
    "\n",
    "def optimal_num_of_loader_workers():\n",
    "    num_cpus = multiprocessing.cpu_count()\n",
    "    num_gpus = torch.cuda.device_count()\n",
    "    optimal_value = min(num_cpus, num_gpus*4) if num_gpus else num_cpus - 1\n",
    "    return optimal_value\n",
    "\n",
    "print(f\"Apex AMP Installed :: {APEX_INSTALLED}\")\n",
    "MODEL_CONFIG_CLASSES = list(MODEL_FOR_QUESTION_ANSWERING_MAPPING.keys())\n",
    "MODEL_TYPES = tuple(conf.model_type for conf in MODEL_CONFIG_CLASSES)"
   ]
  },
  {
   "cell_type": "markdown",
   "id": "637640ba",
   "metadata": {
    "papermill": {
     "duration": 0.016358,
     "end_time": "2021-11-11T22:01:00.673952",
     "exception": false,
     "start_time": "2021-11-11T22:01:00.657594",
     "status": "completed"
    },
    "tags": []
   },
   "source": [
    "# Now Create Custom CLass"
   ]
  },
  {
   "cell_type": "code",
   "execution_count": 2,
   "id": "87b2894c",
   "metadata": {
    "execution": {
     "iopub.execute_input": "2021-11-11T22:01:00.716268Z",
     "iopub.status.busy": "2021-11-11T22:01:00.714648Z",
     "iopub.status.idle": "2021-11-11T22:01:00.716877Z",
     "shell.execute_reply": "2021-11-11T22:01:00.717283Z",
     "shell.execute_reply.started": "2021-11-11T20:38:52.802553Z"
    },
    "papermill": {
     "duration": 0.027068,
     "end_time": "2021-11-11T22:01:00.717427",
     "exception": false,
     "start_time": "2021-11-11T22:01:00.690359",
     "status": "completed"
    },
    "tags": []
   },
   "outputs": [],
   "source": [
    "class Configration:\n",
    "    # model\n",
    "    model_type = 'xlm_roberta'\n",
    "    XLMR_name_or_path = \"../input/nothing-of-your-concern/xlm-roberta-large-squad2/xlm-roberta-large-squad2\"\n",
    "    MURIL_name_or_path=\"../input/nothing-of-your-concern/muril-large-cased/muril-large-cased\"\n",
    "    MPNET2_name_or_path=\"../input/nothing-of-your-concern/multi-qa-mpnet-base-cos-v1/multi-qa-mpnet-base-cos-v1\"\n",
    "    MPNET3_name_or_path=\"../input/nothing-of-your-concern/multi-qa-mpnet-base-dot-v1/multi-qa-mpnet-base-dot-v1\"\n",
    "    XLMR_config_name = \"../input/nothing-of-your-concern/xlm-roberta-large-squad2/xlm-roberta-large-squad2/config.json\"\n",
    "    MURIL_config_name=\"../input/nothing-of-your-concern/muril-large-cased/muril-large-cased/config.json\"\n",
    "    MPNET2_config_name=\"../input/nothing-of-your-concern/multi-qa-mpnet-base-cos-v1/multi-qa-mpnet-base-cos-v1/config.json\"\n",
    "    MPNET3_config_name=\"../input/nothing-of-your-concern/multi-qa-mpnet-base-dot-v1/multi-qa-mpnet-base-dot-v1/config.json\"\n",
    "    fp16 = True if APEX_INSTALLED else False\n",
    "    fp16_opt_level = \"O1\"\n",
    "    gradient_accumulation_steps = 2\n",
    "\n",
    "    # tokenizer\n",
    "    XLMR_tokenizer_name= \"../input/nothing-of-your-concern/xlm-roberta-large-squad2/xlm-roberta-large-squad2/\"\n",
    "    MURIL_tokenizer_name=\"../input/nothing-of-your-concern/muril-large-cased/muril-large-cased/\"\n",
    "    MPNET2_tokenizer_name=\"../input/nothing-of-your-concern/multi-qa-mpnet-base-cos-v1/multi-qa-mpnet-base-cos-v1/\"\n",
    "    MPNET3_tokenizer_name=\"../input/nothing-of-your-concern/multi-qa-mpnet-base-dot-v1/multi-qa-mpnet-base-dot-v1/\"\n",
    "    max_seq_length = 400\n",
    "    doc_stride = 135\n",
    "\n",
    "    # train\n",
    "    epochs = 1\n",
    "    train_batch_size = 4\n",
    "    eval_batch_size = 128\n",
    "\n",
    "    # optimzer\n",
    "    optimizer_type = 'AdamW'\n",
    "    learning_rate = 1e-5\n",
    "    weight_decay = 1e-2\n",
    "    epsilon = 1e-8\n",
    "    max_grad_norm = 1.0\n",
    "\n",
    "    # scheduler\n",
    "    decay_name = 'linear-warmup'\n",
    "    warmup_ratio = 0.1\n",
    "\n",
    "    # logging\n",
    "    logging_steps = 10\n",
    "\n",
    "    # evaluate\n",
    "    output_dir = 'output'\n",
    "    seed = 2021"
   ]
  },
  {
   "cell_type": "code",
   "execution_count": 3,
   "id": "d8f143d3",
   "metadata": {
    "execution": {
     "iopub.execute_input": "2021-11-11T22:01:00.759537Z",
     "iopub.status.busy": "2021-11-11T22:01:00.758997Z",
     "iopub.status.idle": "2021-11-11T22:01:00.762607Z",
     "shell.execute_reply": "2021-11-11T22:01:00.762139Z",
     "shell.execute_reply.started": "2021-11-11T20:38:52.812355Z"
    },
    "papermill": {
     "duration": 0.028879,
     "end_time": "2021-11-11T22:01:00.762715",
     "exception": false,
     "start_time": "2021-11-11T22:01:00.733836",
     "status": "completed"
    },
    "tags": []
   },
   "outputs": [],
   "source": [
    "# Dataset_Retriever class\n",
    "class Dataset_Retriever(Dataset):\n",
    "    def __init__(self, features, mode='train'):\n",
    "        super(Dataset_Retriever, self).__init__()\n",
    "        self.features = features\n",
    "        self.mode = mode\n",
    "        \n",
    "    def __len__(self):\n",
    "        return len(self.features)\n",
    "    \n",
    "    def __getitem__(self, item):   \n",
    "        feature = self.features[item]\n",
    "        if self.mode == 'train':\n",
    "            return {\n",
    "                'input_ids':torch.tensor(feature['input_ids'], dtype=torch.long),\n",
    "                'attention_mask':torch.tensor(feature['attention_mask'], dtype=torch.long),\n",
    "                'offset_mapping':torch.tensor(feature['offset_mapping'], dtype=torch.long),\n",
    "                'start_position':torch.tensor(feature['start_position'], dtype=torch.long),\n",
    "                'end_position':torch.tensor(feature['end_position'], dtype=torch.long)\n",
    "            }\n",
    "        else:\n",
    "            return {\n",
    "                'language':feature['language'],\n",
    "                'input_ids':torch.tensor(feature['input_ids'], dtype=torch.long),\n",
    "                'attention_mask':torch.tensor(feature['attention_mask'], dtype=torch.long),\n",
    "                'offset_mapping':feature['offset_mapping'],\n",
    "                'sequence_ids':feature['sequence_ids'],\n",
    "                'id':feature['example_id'],\n",
    "                'context': feature['context'],\n",
    "                'question': feature['question']\n",
    "            }"
   ]
  },
  {
   "cell_type": "markdown",
   "id": "7c9a543e",
   "metadata": {
    "papermill": {
     "duration": 0.016126,
     "end_time": "2021-11-11T22:01:00.795493",
     "exception": false,
     "start_time": "2021-11-11T22:01:00.779367",
     "status": "completed"
    },
    "tags": []
   },
   "source": [
    "# Now Creating Model building class"
   ]
  },
  {
   "cell_type": "markdown",
   "id": "818c6820",
   "metadata": {
    "papermill": {
     "duration": 0.016581,
     "end_time": "2021-11-11T22:01:00.829733",
     "exception": false,
     "start_time": "2021-11-11T22:01:00.813152",
     "status": "completed"
    },
    "tags": []
   },
   "source": [
    "Normal"
   ]
  },
  {
   "cell_type": "code",
   "execution_count": 4,
   "id": "8933d82f",
   "metadata": {
    "execution": {
     "iopub.execute_input": "2021-11-11T22:01:00.872525Z",
     "iopub.status.busy": "2021-11-11T22:01:00.871885Z",
     "iopub.status.idle": "2021-11-11T22:01:00.874898Z",
     "shell.execute_reply": "2021-11-11T22:01:00.874421Z",
     "shell.execute_reply.started": "2021-11-11T20:38:52.828681Z"
    },
    "papermill": {
     "duration": 0.028609,
     "end_time": "2021-11-11T22:01:00.875025",
     "exception": false,
     "start_time": "2021-11-11T22:01:00.846416",
     "status": "completed"
    },
    "tags": []
   },
   "outputs": [],
   "source": [
    "class Model(nn.Module):\n",
    "    def __init__(self, modelname_or_path, config):\n",
    "        super(Model, self).__init__()\n",
    "        self.config = config\n",
    "        self.xlm_roberta = AutoModel.from_pretrained(modelname_or_path, config=config)\n",
    "        self.qa_outputs = nn.Linear(config.hidden_size, 2)\n",
    "        self.dropout = nn.Dropout(config.hidden_dropout_prob)\n",
    "        self._init_weights(self.qa_outputs)\n",
    "        \n",
    "    def _init_weights(self, module):\n",
    "        if isinstance(module, nn.Linear):\n",
    "            module.weight.data.normal_(mean=0.0, std=self.config.initializer_range)\n",
    "            if module.bias is not None:\n",
    "                module.bias.data.zero_()\n",
    "\n",
    "    def forward(\n",
    "        self, \n",
    "        input_ids, \n",
    "        attention_mask=None, \n",
    "    ):\n",
    "        outputs = self.xlm_roberta(\n",
    "            input_ids,\n",
    "            attention_mask=attention_mask,\n",
    "        )\n",
    "\n",
    "        sequence_output = outputs[0]\n",
    "        pooled_output = outputs[1]\n",
    "        \n",
    "        # sequence_output = self.dropout(sequence_output)\n",
    "        qa_logits = self.qa_outputs(sequence_output)\n",
    "        \n",
    "        start_logits, end_logits = qa_logits.split(1, dim=-1)\n",
    "        start_logits = start_logits.squeeze(-1)\n",
    "        end_logits = end_logits.squeeze(-1)\n",
    "    \n",
    "        return start_logits, end_logits"
   ]
  },
  {
   "cell_type": "code",
   "execution_count": 5,
   "id": "19d0d8f2",
   "metadata": {
    "execution": {
     "iopub.execute_input": "2021-11-11T22:01:00.914279Z",
     "iopub.status.busy": "2021-11-11T22:01:00.913352Z",
     "iopub.status.idle": "2021-11-11T22:01:00.916686Z",
     "shell.execute_reply": "2021-11-11T22:01:00.916179Z",
     "shell.execute_reply.started": "2021-11-11T20:38:52.838779Z"
    },
    "papermill": {
     "duration": 0.025051,
     "end_time": "2021-11-11T22:01:00.916797",
     "exception": false,
     "start_time": "2021-11-11T22:01:00.891746",
     "status": "completed"
    },
    "tags": []
   },
   "outputs": [],
   "source": [
    "# class Model(nn.Module):\n",
    "#     def __init__(self, modelname_or_path, config):\n",
    "#         super(Model, self).__init__()\n",
    "#         self.config = config\n",
    "#         self.xlm_roberta = AutoModel.from_pretrained(modelname_or_path, config=config)\n",
    "#         self.linear_layer = nn.Linear(config.hidden_size, 64)\n",
    "#         self.dropout = nn.Dropout(config.hidden_dropout_prob)\n",
    "#         self.qa_outputs = nn.Linear(64, 2)\n",
    "#         self._init_weights(self.qa_outputs)\n",
    "        \n",
    "#     def _init_weights(self, module):\n",
    "#         if isinstance(module, nn.Linear):\n",
    "#             module.weight.data.normal_(mean=0.0, std=self.config.initializer_range)\n",
    "#             if module.bias is not None:\n",
    "#                 module.bias.data.zero_()\n",
    "\n",
    "#     def forward(\n",
    "#         self, \n",
    "#         input_ids, \n",
    "#         attention_mask=None, \n",
    "#     ):\n",
    "#         outputs = self.xlm_roberta(input_ids,attention_mask=attention_mask)\n",
    "\n",
    "#         sequence_output = outputs[0]\n",
    "#         pooled_output = outputs[1]\n",
    "        \n",
    "#         linear_output = self.linear_layer(sequence_output)\n",
    "#         linear_output = self.dropout(linear_output)\n",
    "#         qa_logits = self.qa_outputs(linear_output)\n",
    "        \n",
    "#         start_logits, end_logits = qa_logits.split(1, dim=-1)\n",
    "#         start_logits = start_logits.squeeze(-1)\n",
    "#         end_logits = end_logits.squeeze(-1)\n",
    "    \n",
    "#         return start_logits, end_logits"
   ]
  },
  {
   "cell_type": "markdown",
   "id": "4ef930b8",
   "metadata": {
    "papermill": {
     "duration": 0.024609,
     "end_time": "2021-11-11T22:01:00.959430",
     "exception": false,
     "start_time": "2021-11-11T22:01:00.934821",
     "status": "completed"
    },
    "tags": []
   },
   "source": [
    "# This making model function helping AutoConfig and AutoTokenizer the data"
   ]
  },
  {
   "cell_type": "code",
   "execution_count": 6,
   "id": "5ede2678",
   "metadata": {
    "execution": {
     "iopub.execute_input": "2021-11-11T22:01:00.996776Z",
     "iopub.status.busy": "2021-11-11T22:01:00.996040Z",
     "iopub.status.idle": "2021-11-11T22:01:00.998067Z",
     "shell.execute_reply": "2021-11-11T22:01:00.998502Z",
     "shell.execute_reply.started": "2021-11-11T20:38:52.855107Z"
    },
    "papermill": {
     "duration": 0.022689,
     "end_time": "2021-11-11T22:01:00.998622",
     "exception": false,
     "start_time": "2021-11-11T22:01:00.975933",
     "status": "completed"
    },
    "tags": []
   },
   "outputs": [],
   "source": [
    "def Make_Model(args):\n",
    "    config = AutoConfig.from_pretrained(args.MPNET2_config_name)\n",
    "    tokenizer = AutoTokenizer.from_pretrained(args.MPNET2_tokenizer_name)\n",
    "    model = Model(args.MPNET2_name_or_path, config=config)\n",
    "    return config, tokenizer, model"
   ]
  },
  {
   "cell_type": "code",
   "execution_count": 7,
   "id": "695af734",
   "metadata": {
    "execution": {
     "iopub.execute_input": "2021-11-11T22:01:01.040965Z",
     "iopub.status.busy": "2021-11-11T22:01:01.040184Z",
     "iopub.status.idle": "2021-11-11T22:01:01.042590Z",
     "shell.execute_reply": "2021-11-11T22:01:01.042138Z",
     "shell.execute_reply.started": "2021-11-11T20:38:52.864306Z"
    },
    "papermill": {
     "duration": 0.026701,
     "end_time": "2021-11-11T22:01:01.042694",
     "exception": false,
     "start_time": "2021-11-11T22:01:01.015993",
     "status": "completed"
    },
    "tags": []
   },
   "outputs": [],
   "source": [
    "def Prepare_Test_Features(args, example, tokenizer):\n",
    "    example[\"question\"] = example[\"question\"].lstrip()\n",
    "    \n",
    "    tokenized_example = tokenizer(\n",
    "        example[\"question\"],\n",
    "        example[\"context\"],\n",
    "        truncation=\"only_second\",\n",
    "        max_length=args.max_seq_length,\n",
    "        stride=args.doc_stride,\n",
    "        return_overflowing_tokens=True,\n",
    "        return_offsets_mapping=True,\n",
    "        padding=\"max_length\",\n",
    "    )\n",
    "\n",
    "    features = []\n",
    "    for i in range(len(tokenized_example[\"input_ids\"])):\n",
    "        feature = {}\n",
    "        feature[\"language\"]=example['language']\n",
    "        feature[\"example_id\"] = example['id']\n",
    "        feature['context'] = example['context']\n",
    "        feature['question'] = example['question']\n",
    "        feature['input_ids'] = tokenized_example['input_ids'][i]\n",
    "        feature['attention_mask'] = tokenized_example['attention_mask'][i]\n",
    "        feature['offset_mapping'] = tokenized_example['offset_mapping'][i]\n",
    "        feature['sequence_ids'] = [0 if i is None else i for i in tokenized_example.sequence_ids(i)]\n",
    "        features.append(feature)\n",
    "    return features"
   ]
  },
  {
   "cell_type": "markdown",
   "id": "82f51217",
   "metadata": {
    "papermill": {
     "duration": 0.01638,
     "end_time": "2021-11-11T22:01:01.075679",
     "exception": false,
     "start_time": "2021-11-11T22:01:01.059299",
     "status": "completed"
    },
    "tags": []
   },
   "source": [
    "# Now import collections lib and create function"
   ]
  },
  {
   "cell_type": "code",
   "execution_count": 8,
   "id": "82e8a00c",
   "metadata": {
    "execution": {
     "iopub.execute_input": "2021-11-11T22:01:01.113330Z",
     "iopub.status.busy": "2021-11-11T22:01:01.111824Z",
     "iopub.status.idle": "2021-11-11T22:01:01.113979Z",
     "shell.execute_reply": "2021-11-11T22:01:01.114364Z",
     "shell.execute_reply.started": "2021-11-11T20:38:52.876450Z"
    },
    "papermill": {
     "duration": 0.0224,
     "end_time": "2021-11-11T22:01:01.114510",
     "exception": false,
     "start_time": "2021-11-11T22:01:01.092110",
     "status": "completed"
    },
    "tags": []
   },
   "outputs": [],
   "source": [
    "import collections"
   ]
  },
  {
   "cell_type": "code",
   "execution_count": 9,
   "id": "afc04c95",
   "metadata": {
    "execution": {
     "iopub.execute_input": "2021-11-11T22:01:01.163051Z",
     "iopub.status.busy": "2021-11-11T22:01:01.162178Z",
     "iopub.status.idle": "2021-11-11T22:01:01.164356Z",
     "shell.execute_reply": "2021-11-11T22:01:01.164764Z",
     "shell.execute_reply.started": "2021-11-11T20:38:52.888662Z"
    },
    "papermill": {
     "duration": 0.033997,
     "end_time": "2021-11-11T22:01:01.164882",
     "exception": false,
     "start_time": "2021-11-11T22:01:01.130885",
     "status": "completed"
    },
    "tags": []
   },
   "outputs": [],
   "source": [
    "def Postprocess_qa_predictions(examples, features, raw_predictions, n_best_size = 20, max_answer_length = 30):\n",
    "    all_start_logits, all_end_logits = raw_predictions\n",
    "    \n",
    "    example_id_to_index = {k: i for i, k in enumerate(examples[\"id\"])}\n",
    "    features_per_example = collections.defaultdict(list)\n",
    "    for i, feature in enumerate(features):\n",
    "        features_per_example[example_id_to_index[feature[\"example_id\"]]].append(i)\n",
    "\n",
    "    predictions = collections.OrderedDict()\n",
    "\n",
    "    print(f\"Post-processing {len(examples)} example predictions split into {len(features)} features.\")\n",
    "\n",
    "    for example_index, example in examples.iterrows():\n",
    "        feature_indices = features_per_example[example_index]\n",
    "\n",
    "        min_null_score = None\n",
    "        valid_answers = []\n",
    "        \n",
    "        context = example[\"context\"]\n",
    "        for feature_index in feature_indices:\n",
    "            start_logits = all_start_logits[feature_index]\n",
    "            end_logits = all_end_logits[feature_index]\n",
    "\n",
    "            sequence_ids = features[feature_index][\"sequence_ids\"]\n",
    "            context_index = 1\n",
    "\n",
    "            features[feature_index][\"offset_mapping\"] = [\n",
    "                (o if sequence_ids[k] == context_index else None)\n",
    "                for k, o in enumerate(features[feature_index][\"offset_mapping\"])\n",
    "            ]\n",
    "            offset_mapping = features[feature_index][\"offset_mapping\"]\n",
    "            cls_index = features[feature_index][\"input_ids\"].index(tokenizer.cls_token_id)\n",
    "            feature_null_score = start_logits[cls_index] + end_logits[cls_index]\n",
    "            if min_null_score is None or min_null_score < feature_null_score:\n",
    "                min_null_score = feature_null_score\n",
    "\n",
    "            start_indexes = np.argsort(start_logits)[-1 : -n_best_size - 1 : -1].tolist()\n",
    "            end_indexes = np.argsort(end_logits)[-1 : -n_best_size - 1 : -1].tolist()\n",
    "            for start_index in start_indexes:\n",
    "                for end_index in end_indexes:\n",
    "                    if (\n",
    "                        start_index >= len(offset_mapping)\n",
    "                        or end_index >= len(offset_mapping)\n",
    "                        or offset_mapping[start_index] is None\n",
    "                        or offset_mapping[end_index] is None\n",
    "                    ):\n",
    "                        continue\n",
    "                    # Don't consider answers with a length that is either < 0 or > max_answer_length.\n",
    "                    if end_index < start_index or end_index - start_index + 1 > max_answer_length:\n",
    "                        continue\n",
    "\n",
    "                    start_char = offset_mapping[start_index][0]\n",
    "                    end_char = offset_mapping[end_index][1]\n",
    "                    valid_answers.append(\n",
    "                        {\n",
    "                            \"score\": start_logits[start_index] + end_logits[end_index],\n",
    "                            \"text\": context[start_char: end_char]\n",
    "                        }\n",
    "                    )\n",
    "        \n",
    "        if len(valid_answers) > 0:\n",
    "            best_answer = sorted(valid_answers, key=lambda x: x[\"score\"], reverse=True)[0]\n",
    "        else:\n",
    "            best_answer = {\"text\": \"\", \"score\": 0.0}\n",
    "        \n",
    "        predictions[example[\"id\"]] = best_answer[\"text\"]\n",
    "        \n",
    "        \n",
    "    return predictions"
   ]
  },
  {
   "cell_type": "markdown",
   "id": "092dbfed",
   "metadata": {
    "papermill": {
     "duration": 0.017799,
     "end_time": "2021-11-11T22:01:01.202737",
     "exception": false,
     "start_time": "2021-11-11T22:01:01.184938",
     "status": "completed"
    },
    "tags": []
   },
   "source": [
    "# Now read test dataset"
   ]
  },
  {
   "cell_type": "code",
   "execution_count": 10,
   "id": "77cc3353",
   "metadata": {
    "execution": {
     "iopub.execute_input": "2021-11-11T22:01:01.244438Z",
     "iopub.status.busy": "2021-11-11T22:01:01.243787Z",
     "iopub.status.idle": "2021-11-11T22:01:01.261331Z",
     "shell.execute_reply": "2021-11-11T22:01:01.261835Z",
     "shell.execute_reply.started": "2021-11-11T20:38:52.907078Z"
    },
    "papermill": {
     "duration": 0.040562,
     "end_time": "2021-11-11T22:01:01.261977",
     "exception": false,
     "start_time": "2021-11-11T22:01:01.221415",
     "status": "completed"
    },
    "tags": []
   },
   "outputs": [],
   "source": [
    "test_df = pd.read_csv('../input/chaii-hindi-and-tamil-question-answering/test.csv')"
   ]
  },
  {
   "cell_type": "code",
   "execution_count": 11,
   "id": "456bbd2b",
   "metadata": {
    "execution": {
     "iopub.execute_input": "2021-11-11T22:01:01.314136Z",
     "iopub.status.busy": "2021-11-11T22:01:01.307474Z",
     "iopub.status.idle": "2021-11-11T22:01:01.316843Z",
     "shell.execute_reply": "2021-11-11T22:01:01.316283Z",
     "shell.execute_reply.started": "2021-11-11T20:38:52.927153Z"
    },
    "papermill": {
     "duration": 0.035835,
     "end_time": "2021-11-11T22:01:01.316967",
     "exception": false,
     "start_time": "2021-11-11T22:01:01.281132",
     "status": "completed"
    },
    "tags": []
   },
   "outputs": [],
   "source": [
    "test_df['context'] = test_df['context'].apply(lambda x: ' '.join(x.split()))\n",
    "test_df['question'] = test_df['question'].apply(lambda x: ' '.join(x.split()))"
   ]
  },
  {
   "cell_type": "code",
   "execution_count": 12,
   "id": "71f171d0",
   "metadata": {
    "execution": {
     "iopub.execute_input": "2021-11-11T22:01:01.361404Z",
     "iopub.status.busy": "2021-11-11T22:01:01.358295Z",
     "iopub.status.idle": "2021-11-11T22:01:01.733811Z",
     "shell.execute_reply": "2021-11-11T22:01:01.734280Z",
     "shell.execute_reply.started": "2021-11-11T20:38:52.937424Z"
    },
    "papermill": {
     "duration": 0.398482,
     "end_time": "2021-11-11T22:01:01.734471",
     "exception": false,
     "start_time": "2021-11-11T22:01:01.335989",
     "status": "completed"
    },
    "tags": []
   },
   "outputs": [],
   "source": [
    "\n",
    "tokenizer = AutoTokenizer.from_pretrained(Configration().MPNET2_tokenizer_name)\n",
    "\n",
    "test_features = []\n",
    "for i, row in test_df.iterrows():\n",
    "    \n",
    "    # Now Calling Function and Calling Class\n",
    "    \n",
    "    test_features += Prepare_Test_Features(Configration(), row, tokenizer)\n",
    "\n",
    "# Now Calling Classes\n",
    "\n",
    "args = Configration()\n",
    "test_dataset = Dataset_Retriever(test_features, mode='test')\n",
    "test_dataloader = DataLoader(\n",
    "    test_dataset,\n",
    "    batch_size=args.eval_batch_size, \n",
    "    sampler=SequentialSampler(test_dataset),\n",
    "    num_workers=optimal_num_of_loader_workers(),\n",
    "    pin_memory=True, \n",
    "    drop_last=False\n",
    ")"
   ]
  },
  {
   "cell_type": "code",
   "execution_count": 13,
   "id": "39827f9d",
   "metadata": {
    "execution": {
     "iopub.execute_input": "2021-11-11T22:01:01.778254Z",
     "iopub.status.busy": "2021-11-11T22:01:01.777310Z",
     "iopub.status.idle": "2021-11-11T22:01:01.779319Z",
     "shell.execute_reply": "2021-11-11T22:01:01.779793Z",
     "shell.execute_reply.started": "2021-11-11T20:38:53.539250Z"
    },
    "papermill": {
     "duration": 0.026125,
     "end_time": "2021-11-11T22:01:01.779931",
     "exception": false,
     "start_time": "2021-11-11T22:01:01.753806",
     "status": "completed"
    },
    "tags": []
   },
   "outputs": [],
   "source": [
    "base_model_hindi = '../input/nothing-of-your-concern/MPNet2-H/output/'\n",
    "base_model_tamil = '../input/nothing-of-your-concern/MPNet2-T/output/'"
   ]
  },
  {
   "cell_type": "markdown",
   "id": "b6543176",
   "metadata": {
    "papermill": {
     "duration": 0.017834,
     "end_time": "2021-11-11T22:01:01.816137",
     "exception": false,
     "start_time": "2021-11-11T22:01:01.798303",
     "status": "completed"
    },
    "tags": []
   },
   "source": [
    "# Now Create Get Prediction Function for helping the model "
   ]
  },
  {
   "cell_type": "code",
   "execution_count": 14,
   "id": "adeb1b6f",
   "metadata": {
    "execution": {
     "iopub.execute_input": "2021-11-11T22:01:01.861893Z",
     "iopub.status.busy": "2021-11-11T22:01:01.857307Z",
     "iopub.status.idle": "2021-11-11T22:01:01.864592Z",
     "shell.execute_reply": "2021-11-11T22:01:01.864101Z",
     "shell.execute_reply.started": "2021-11-11T20:38:53.544462Z"
    },
    "papermill": {
     "duration": 0.030012,
     "end_time": "2021-11-11T22:01:01.864718",
     "exception": false,
     "start_time": "2021-11-11T22:01:01.834706",
     "status": "completed"
    },
    "tags": []
   },
   "outputs": [],
   "source": [
    "def Get_Predictions(checkpoint_path):\n",
    "    \n",
    "    # Calling Function Make_Model and Class Configration\n",
    "    \n",
    "    config, tokenizer,model = Make_Model(Configration())\n",
    "    model.cuda();\n",
    "    model.load_state_dict(\n",
    "        torch.load(checkpoint_path)\n",
    "    );\n",
    "    \n",
    "    start_logits = []\n",
    "    end_logits = []\n",
    "    languages = []\n",
    "    for batch in test_dataloader:\n",
    "        with torch.no_grad():\n",
    "            \n",
    "            outputs_start, outputs_end = model(batch['input_ids'].cuda(), batch['attention_mask'].cuda())\n",
    "            start_logits.append(outputs_start.cpu().numpy().tolist())\n",
    "            end_logits.append(outputs_end.cpu().numpy().tolist())\n",
    "            languages.extend(batch['language'])\n",
    "            del outputs_start, outputs_end\n",
    "    del model, tokenizer, config\n",
    "    gc.collect()\n",
    "    return np.vstack(start_logits), np.vstack(end_logits), languages"
   ]
  },
  {
   "cell_type": "markdown",
   "id": "05dc9a06",
   "metadata": {
    "papermill": {
     "duration": 0.018135,
     "end_time": "2021-11-11T22:01:01.901707",
     "exception": false,
     "start_time": "2021-11-11T22:01:01.883572",
     "status": "completed"
    },
    "tags": []
   },
   "source": [
    "# Now Calling Get Predictions Function"
   ]
  },
  {
   "cell_type": "code",
   "execution_count": 15,
   "id": "bdabfb3a",
   "metadata": {
    "execution": {
     "iopub.execute_input": "2021-11-11T22:01:01.953137Z",
     "iopub.status.busy": "2021-11-11T22:01:01.952402Z",
     "iopub.status.idle": "2021-11-11T22:02:41.930250Z",
     "shell.execute_reply": "2021-11-11T22:02:41.930730Z"
    },
    "papermill": {
     "duration": 100.01041,
     "end_time": "2021-11-11T22:02:41.930896",
     "exception": false,
     "start_time": "2021-11-11T22:01:01.920486",
     "status": "completed"
    },
    "tags": []
   },
   "outputs": [
    {
     "name": "stdout",
     "output_type": "stream",
     "text": [
      "Post-processing 5 example predictions split into 117 features.\n"
     ]
    }
   ],
   "source": [
    "start_logits1, end_logits1, languages = Get_Predictions(base_model_hindi +'checkpoint-fold-0/pytorch_model.bin')\n",
    "start_logits2, end_logits2, _ = Get_Predictions(base_model_hindi +'checkpoint-fold-1/pytorch_model.bin')\n",
    "start_logits3, end_logits3, _ = Get_Predictions(base_model_hindi +'checkpoint-fold-2/pytorch_model.bin')\n",
    "start_logits4, end_logits4, _ = Get_Predictions(base_model_hindi +'checkpoint-fold-3/pytorch_model.bin')\n",
    "start_logits5, end_logits5, _ = Get_Predictions(base_model_hindi +'checkpoint-fold-4/pytorch_model.bin')\n",
    "start_logits1_, end_logits1_, _ = Get_Predictions(base_model_tamil +'checkpoint-fold-0/pytorch_model.bin')\n",
    "start_logits2_, end_logits2_, _ = Get_Predictions(base_model_tamil +'checkpoint-fold-1/pytorch_model.bin')\n",
    "start_logits3_, end_logits3_, _ = Get_Predictions(base_model_tamil +'checkpoint-fold-2/pytorch_model.bin')\n",
    "start_logits4_, end_logits4_, _ = Get_Predictions(base_model_tamil +'checkpoint-fold-3/pytorch_model.bin')\n",
    "start_logits5_, end_logits5_, _ = Get_Predictions(base_model_tamil +'checkpoint-fold-4/pytorch_model.bin')\n",
    "\n",
    "\n",
    "\n",
    "start_logits = (start_logits1 + start_logits2 + start_logits3 + start_logits4+ start_logits5)/5\n",
    "end_logits = (end_logits1 + end_logits2 + end_logits3 + end_logits4 + end_logits5 )/5\n",
    "\n",
    "start_logits_ = (start_logits1_ + start_logits2_ + start_logits3_ + start_logits4_+ start_logits5_)/5\n",
    "end_logits_ = (end_logits1_ + end_logits2_ + end_logits3_ + end_logits4_ + end_logits5_ )/5\n",
    "\n",
    "start=[]\n",
    "end=[]\n",
    "for i,lang in enumerate(languages):\n",
    "    if lang==\"hindi\":\n",
    "        start.append(start_logits[i])\n",
    "        end.append(end_logits[i])\n",
    "    else:\n",
    "        start.append(start_logits_[i])\n",
    "        end.append(end_logits_[i])\n",
    "\n",
    "# Now Calling Function \n",
    "\n",
    "fin_preds = Postprocess_qa_predictions(test_df, test_features, (start, end))\n",
    "\n",
    "submission = []\n",
    "for p1, p2 in fin_preds.items():\n",
    "    p2 = \" \".join(p2.split())\n",
    "    p2 = p2.strip(punctuation)\n",
    "    submission.append((p1, p2))\n",
    "    \n",
    "sample = pd.DataFrame(submission, columns=[\"id\", \"PredictionString\"])\n",
    "\n",
    "test_data =pd.merge(left=test_df,right=sample,on='id')"
   ]
  },
  {
   "cell_type": "code",
   "execution_count": 16,
   "id": "d5a81984",
   "metadata": {
    "execution": {
     "iopub.execute_input": "2021-11-11T22:02:41.979114Z",
     "iopub.status.busy": "2021-11-11T22:02:41.978297Z",
     "iopub.status.idle": "2021-11-11T22:02:41.983904Z",
     "shell.execute_reply": "2021-11-11T22:02:41.983503Z"
    },
    "papermill": {
     "duration": 0.033863,
     "end_time": "2021-11-11T22:02:41.984023",
     "exception": false,
     "start_time": "2021-11-11T22:02:41.950160",
     "status": "completed"
    },
    "tags": []
   },
   "outputs": [],
   "source": [
    "bad_starts = [\".\", \",\", \"(\", \")\", \"-\", \"–\",  \",\", \";\"]\n",
    "bad_endings = [\"...\", \"-\", \"(\", \")\", \"–\", \",\", \";\"]\n",
    "\n",
    "tamil_ad = \"கி.பி\"\n",
    "tamil_bc = \"கி.மு\"\n",
    "tamil_km = \"கி.மீ\"\n",
    "hindi_ad = \"ई\"\n",
    "hindi_bc = \"ई.पू\"\n",
    "\n",
    "\n",
    "cleaned_preds = []\n",
    "for pred, context in test_data[[\"PredictionString\", \"context\"]].to_numpy():\n",
    "    if pred == \"\":\n",
    "        cleaned_preds.append(pred)\n",
    "        continue\n",
    "    while any([pred.startswith(y) for y in bad_starts]):\n",
    "        pred = pred[1:]\n",
    "    while any([pred.endswith(y) for y in bad_endings]):\n",
    "        if pred.endswith(\"...\"):\n",
    "            pred = pred[:-3]\n",
    "        else:\n",
    "            pred = pred[:-1]\n",
    "    if pred.endswith(\"...\"):\n",
    "            pred = pred[:-3]\n",
    "    \n",
    "    if any([pred.endswith(tamil_ad), pred.endswith(tamil_bc), pred.endswith(tamil_km), pred.endswith(hindi_ad), pred.endswith(hindi_bc)]) and pred+\".\" in context:\n",
    "        pred = pred+\".\"\n",
    "        \n",
    "    cleaned_preds.append(pred)\n",
    "\n",
    "test_data[\"PredictionString\"] = cleaned_preds\n",
    "test_data[['id', 'PredictionString']].to_csv('submission.csv', index=False)"
   ]
  },
  {
   "cell_type": "code",
   "execution_count": 17,
   "id": "2e632d78",
   "metadata": {
    "execution": {
     "iopub.execute_input": "2021-11-11T22:02:42.023408Z",
     "iopub.status.busy": "2021-11-11T22:02:42.022601Z",
     "iopub.status.idle": "2021-11-11T22:02:42.037339Z",
     "shell.execute_reply": "2021-11-11T22:02:42.036915Z"
    },
    "papermill": {
     "duration": 0.036552,
     "end_time": "2021-11-11T22:02:42.037463",
     "exception": false,
     "start_time": "2021-11-11T22:02:42.000911",
     "status": "completed"
    },
    "tags": []
   },
   "outputs": [
    {
     "data": {
      "text/html": [
       "<div>\n",
       "<style scoped>\n",
       "    .dataframe tbody tr th:only-of-type {\n",
       "        vertical-align: middle;\n",
       "    }\n",
       "\n",
       "    .dataframe tbody tr th {\n",
       "        vertical-align: top;\n",
       "    }\n",
       "\n",
       "    .dataframe thead th {\n",
       "        text-align: right;\n",
       "    }\n",
       "</style>\n",
       "<table border=\"1\" class=\"dataframe\">\n",
       "  <thead>\n",
       "    <tr style=\"text-align: right;\">\n",
       "      <th></th>\n",
       "      <th>id</th>\n",
       "      <th>context</th>\n",
       "      <th>question</th>\n",
       "      <th>language</th>\n",
       "      <th>PredictionString</th>\n",
       "    </tr>\n",
       "  </thead>\n",
       "  <tbody>\n",
       "    <tr>\n",
       "      <th>0</th>\n",
       "      <td>22bff3dec</td>\n",
       "      <td>ज्वाला गुट्टा (जन्म: 7 सितंबर 1983; वर्धा, महा...</td>\n",
       "      <td>ज्वाला गुट्टा की माँ का नाम क्या है</td>\n",
       "      <td>hindi</td>\n",
       "      <td>7 सितंबर 1983</td>\n",
       "    </tr>\n",
       "    <tr>\n",
       "      <th>1</th>\n",
       "      <td>282758170</td>\n",
       "      <td>गूगल मानचित्र (Google Maps) (पूर्व में गूगल लो...</td>\n",
       "      <td>गूगल मैप्स कब लॉन्च किया गया था?</td>\n",
       "      <td>hindi</td>\n",
       "      <td>2009</td>\n",
       "    </tr>\n",
       "    <tr>\n",
       "      <th>2</th>\n",
       "      <td>d60987e0e</td>\n",
       "      <td>गुस्ताव रॉबर्ट किरचॉफ़ (१२ मार्च १८२४ - १७ अक्...</td>\n",
       "      <td>गुस्ताव किरचॉफ का जन्म कब हुआ था?</td>\n",
       "      <td>hindi</td>\n",
       "      <td>१२ मार्च १८२४ - १७ अक्टूबर १८८७) एक जर्मन भौति...</td>\n",
       "    </tr>\n",
       "    <tr>\n",
       "      <th>3</th>\n",
       "      <td>f99c770dc</td>\n",
       "      <td>அலுமினியம் (ஆங்கிலம்: அலுமினியம்; வட அமெரிக்க ...</td>\n",
       "      <td>அலுமினியத்தின் அணு எண் என்ன?</td>\n",
       "      <td>tamil</td>\n",
       "      <td>1787</td>\n",
       "    </tr>\n",
       "    <tr>\n",
       "      <th>4</th>\n",
       "      <td>40dec1964</td>\n",
       "      <td>கூட்டுறவு இயக்க வரலாறு, இங்கிலாந்து நாட்டில் ம...</td>\n",
       "      <td>இந்தியாவில் பசுமை புரட்சியின் தந்தை என்று கருத...</td>\n",
       "      <td>tamil</td>\n",
       "      <td>2002</td>\n",
       "    </tr>\n",
       "  </tbody>\n",
       "</table>\n",
       "</div>"
      ],
      "text/plain": [
       "          id                                            context  \\\n",
       "0  22bff3dec  ज्वाला गुट्टा (जन्म: 7 सितंबर 1983; वर्धा, महा...   \n",
       "1  282758170  गूगल मानचित्र (Google Maps) (पूर्व में गूगल लो...   \n",
       "2  d60987e0e  गुस्ताव रॉबर्ट किरचॉफ़ (१२ मार्च १८२४ - १७ अक्...   \n",
       "3  f99c770dc  அலுமினியம் (ஆங்கிலம்: அலுமினியம்; வட அமெரிக்க ...   \n",
       "4  40dec1964  கூட்டுறவு இயக்க வரலாறு, இங்கிலாந்து நாட்டில் ம...   \n",
       "\n",
       "                                            question language  \\\n",
       "0                ज्वाला गुट्टा की माँ का नाम क्या है    hindi   \n",
       "1                   गूगल मैप्स कब लॉन्च किया गया था?    hindi   \n",
       "2                  गुस्ताव किरचॉफ का जन्म कब हुआ था?    hindi   \n",
       "3                       அலுமினியத்தின் அணு எண் என்ன?    tamil   \n",
       "4  இந்தியாவில் பசுமை புரட்சியின் தந்தை என்று கருத...    tamil   \n",
       "\n",
       "                                    PredictionString  \n",
       "0                                      7 सितंबर 1983  \n",
       "1                                               2009  \n",
       "2  १२ मार्च १८२४ - १७ अक्टूबर १८८७) एक जर्मन भौति...  \n",
       "3                                               1787  \n",
       "4                                               2002  "
      ]
     },
     "execution_count": 17,
     "metadata": {},
     "output_type": "execute_result"
    }
   ],
   "source": [
    "test_data.head()"
   ]
  },
  {
   "cell_type": "code",
   "execution_count": null,
   "id": "fd1f18c1",
   "metadata": {
    "papermill": {
     "duration": 0.017321,
     "end_time": "2021-11-11T22:02:42.072582",
     "exception": false,
     "start_time": "2021-11-11T22:02:42.055261",
     "status": "completed"
    },
    "tags": []
   },
   "outputs": [],
   "source": []
  }
 ],
 "metadata": {
  "kernelspec": {
   "display_name": "Python 3",
   "language": "python",
   "name": "python3"
  },
  "language_info": {
   "codemirror_mode": {
    "name": "ipython",
    "version": 3
   },
   "file_extension": ".py",
   "mimetype": "text/x-python",
   "name": "python",
   "nbconvert_exporter": "python",
   "pygments_lexer": "ipython3",
   "version": "3.7.10"
  },
  "papermill": {
   "default_parameters": {},
   "duration": 121.667636,
   "end_time": "2021-11-11T22:02:44.970203",
   "environment_variables": {},
   "exception": null,
   "input_path": "__notebook__.ipynb",
   "output_path": "__notebook__.ipynb",
   "parameters": {},
   "start_time": "2021-11-11T22:00:43.302567",
   "version": "2.3.3"
  }
 },
 "nbformat": 4,
 "nbformat_minor": 5
}
