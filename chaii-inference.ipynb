{
 "cells": [
  {
   "cell_type": "code",
   "execution_count": 1,
   "id": "4f76d1d1",
   "metadata": {
    "execution": {
     "iopub.execute_input": "2021-11-15T20:07:03.736520Z",
     "iopub.status.busy": "2021-11-15T20:07:03.735020Z",
     "iopub.status.idle": "2021-11-15T20:07:37.097000Z",
     "shell.execute_reply": "2021-11-15T20:07:37.096204Z",
     "shell.execute_reply.started": "2021-11-15T20:03:48.869863Z"
    },
    "papermill": {
     "duration": 33.383567,
     "end_time": "2021-11-15T20:07:37.097209",
     "exception": false,
     "start_time": "2021-11-15T20:07:03.713642",
     "status": "completed"
    },
    "tags": []
   },
   "outputs": [],
   "source": [
    "!pip install -U --no-build-isolation --no-deps ../input/transformers-master/ -qq"
   ]
  },
  {
   "cell_type": "code",
   "execution_count": 2,
   "id": "82467f73",
   "metadata": {
    "execution": {
     "iopub.execute_input": "2021-11-15T20:07:37.144874Z",
     "iopub.status.busy": "2021-11-15T20:07:37.144031Z",
     "iopub.status.idle": "2021-11-15T20:07:46.783981Z",
     "shell.execute_reply": "2021-11-15T20:07:46.784850Z",
     "shell.execute_reply.started": "2021-11-15T20:04:24.976602Z"
    },
    "papermill": {
     "duration": 9.669233,
     "end_time": "2021-11-15T20:07:46.785062",
     "exception": false,
     "start_time": "2021-11-15T20:07:37.115829",
     "status": "completed"
    },
    "tags": []
   },
   "outputs": [
    {
     "name": "stderr",
     "output_type": "stream",
     "text": [
      "2021-11-15 20:07:43.069764: I tensorflow/stream_executor/platform/default/dso_loader.cc:49] Successfully opened dynamic library libcudart.so.11.0\n"
     ]
    },
    {
     "name": "stdout",
     "output_type": "stream",
     "text": [
      "Apex AMP Installed :: False\n"
     ]
    }
   ],
   "source": [
    "import os\n",
    "os.environ[\"TOKENIZERS_PARALLELISM\"] = \"false\"\n",
    "import gc\n",
    "gc.enable()\n",
    "import math\n",
    "import json\n",
    "import time\n",
    "import random\n",
    "import multiprocessing\n",
    "import warnings\n",
    "warnings.filterwarnings(\"ignore\", category=UserWarning)\n",
    "\n",
    "import numpy as np\n",
    "import pandas as pd\n",
    "from tqdm import tqdm, trange\n",
    "from sklearn import model_selection\n",
    "from string import punctuation\n",
    "\n",
    "import torch\n",
    "import torch.nn as nn\n",
    "import torch.nn.functional as F\n",
    "from torch.nn import Parameter\n",
    "import torch.optim as optim\n",
    "from torch.utils.data import (\n",
    "    Dataset, DataLoader,\n",
    "    SequentialSampler, RandomSampler\n",
    ")\n",
    "from torch.utils.data.distributed import DistributedSampler\n",
    "\n",
    "try:\n",
    "    from apex import amp\n",
    "    APEX_INSTALLED = True\n",
    "except ImportError:\n",
    "    APEX_INSTALLED = False\n",
    "\n",
    "import transformers\n",
    "from transformers import (\n",
    "    WEIGHTS_NAME,\n",
    "    AdamW,\n",
    "    AutoConfig,\n",
    "    AutoModel,\n",
    "    AutoTokenizer,\n",
    "    get_cosine_schedule_with_warmup,\n",
    "    get_linear_schedule_with_warmup,\n",
    "    logging,\n",
    "    MODEL_FOR_QUESTION_ANSWERING_MAPPING,\n",
    ")\n",
    "logging.set_verbosity_warning()\n",
    "logging.set_verbosity_error()\n",
    "\n",
    "# Now Create Function\n",
    "\n",
    "def fix_all_seeds(seed):\n",
    "    np.random.seed(seed)\n",
    "    random.seed(seed)\n",
    "    os.environ['PYTHONHASHSEED'] = str(seed)\n",
    "    torch.manual_seed(seed)\n",
    "    torch.cuda.manual_seed(seed)\n",
    "    torch.cuda.manual_seed_all(seed)\n",
    "\n",
    "def optimal_num_of_loader_workers():\n",
    "    num_cpus = multiprocessing.cpu_count()\n",
    "    num_gpus = torch.cuda.device_count()\n",
    "    optimal_value = min(num_cpus, num_gpus*4) if num_gpus else num_cpus - 1\n",
    "    return optimal_value\n",
    "\n",
    "print(f\"Apex AMP Installed :: {APEX_INSTALLED}\")\n",
    "MODEL_CONFIG_CLASSES = list(MODEL_FOR_QUESTION_ANSWERING_MAPPING.keys())\n",
    "MODEL_TYPES = tuple(conf.model_type for conf in MODEL_CONFIG_CLASSES)"
   ]
  },
  {
   "cell_type": "markdown",
   "id": "770f5f76",
   "metadata": {
    "papermill": {
     "duration": 0.016158,
     "end_time": "2021-11-15T20:07:46.818650",
     "exception": false,
     "start_time": "2021-11-15T20:07:46.802492",
     "status": "completed"
    },
    "tags": []
   },
   "source": [
    "# Now Create Custom CLass"
   ]
  },
  {
   "cell_type": "code",
   "execution_count": 3,
   "id": "6bf6d806",
   "metadata": {
    "execution": {
     "iopub.execute_input": "2021-11-15T20:07:46.861322Z",
     "iopub.status.busy": "2021-11-15T20:07:46.859668Z",
     "iopub.status.idle": "2021-11-15T20:07:46.861923Z",
     "shell.execute_reply": "2021-11-15T20:07:46.862356Z",
     "shell.execute_reply.started": "2021-11-15T20:04:35.989488Z"
    },
    "papermill": {
     "duration": 0.02764,
     "end_time": "2021-11-15T20:07:46.862486",
     "exception": false,
     "start_time": "2021-11-15T20:07:46.834846",
     "status": "completed"
    },
    "tags": []
   },
   "outputs": [],
   "source": [
    "class Configration:\n",
    "    # model\n",
    "    model_type = 'xlm_roberta'\n",
    "    MPNET_name_or_path=\"../input/chaii-mpnet/paraphrase-multilingual-mpnet-base-v2/paraphrase-multilingual-mpnet-base-v2\"\n",
    "    MPNET_config_name=\"../input/chaii-mpnet/paraphrase-multilingual-mpnet-base-v2/paraphrase-multilingual-mpnet-base-v2/config.json\"\n",
    "    BERTT_name_or_path=\"../input/chaii-berts/bert-multi-cased-finedtuned-xquad-tydiqa-goldp/bert-multi-cased-finedtuned-xquad-tydiqa-goldp\"\n",
    "    BERTT_config_name=\"../input/chaii-berts/bert-multi-cased-finedtuned-xquad-tydiqa-goldp/bert-multi-cased-finedtuned-xquad-tydiqa-goldp/config.json\"\n",
    "    BERTCS_name_or_path=\"../input/chaii-berts/bert-base-multilingual-cased-finetuned-squad/bert-base-multilingual-cased-finetuned-squad\"\n",
    "    BERTCS_config_name=\"../input/chaii-berts/bert-base-multilingual-cased-finetuned-squad/bert-base-multilingual-cased-finetuned-squad/config.json\"\n",
    "    BERTUX_name_or_path=\"../input/chaii-berts/bert-multi-uncased-finetuned-xquadv1/bert-multi-uncased-finetuned-xquadv1\"\n",
    "    BERTUX_config_name=\"../input/chaii-berts/bert-multi-uncased-finetuned-xquadv1/bert-multi-uncased-finetuned-xquadv1/config.json\"\n",
    "    BERTCX_name_or_path=\"../input/chaii-berts/bert-multi-cased-finetuned-xquadv1/bert-multi-cased-finetuned-xquadv1\"\n",
    "    BERTCX_config_name=\"../input/chaii-berts/bert-multi-cased-finetuned-xquadv1/bert-multi-cased-finetuned-xquadv1/config.json\"\n",
    "    INFOXLM_name_or_path=\"../input/chaii-infoxlm/infoxlm-large/infoxlm-large\"\n",
    "    INFOXLM_config_name=\"../input/chaii-infoxlm/infoxlm-large/infoxlm-large/config.json\"\n",
    "    MINILM_name_or_path=\"../input/chaii-minilm-cos/multi-qa-MiniLM-L6-cos-v1/multi-qa-MiniLM-L6-cos-v1\"\n",
    "    MINILM_config_name=\"../input/chaii-minilm-cos/multi-qa-MiniLM-L6-cos-v1/multi-qa-MiniLM-L6-cos-v1/config.json\"\n",
    "    REMBERT_name_or_path=\"../input/chaii-rembert/rembert_model/rembert\"\n",
    "    REMBERT_config_name=\"../input/chaii-rembert/rembert_model/rembert/config.json\"\n",
    "    fp16 = True if APEX_INSTALLED else False\n",
    "    fp16_opt_level = \"O1\"\n",
    "    gradient_accumulation_steps = 2\n",
    "\n",
    "    # tokenizer\n",
    "    MPNET_tokenizer_name=\"../input/chaii-mpnet/paraphrase-multilingual-mpnet-base-v2/paraphrase-multilingual-mpnet-base-v2\"\n",
    "    MINILM_tokenizer_name=\"../input/chaii-minilm-cos/multi-qa-MiniLM-L6-cos-v1/multi-qa-MiniLM-L6-cos-v1\"\n",
    "    INFOXLM_tokenizer_name=\"../input/chaii-infoxlm/infoxlm-large/infoxlm-large\"\n",
    "    BERTT_tokenizer_name=\"../input/chaii-berts/bert-multi-cased-finedtuned-xquad-tydiqa-goldp/bert-multi-cased-finedtuned-xquad-tydiqa-goldp\"\n",
    "    BERTCS_tokenizer_name=\"../input/chaii-berts/bert-base-multilingual-cased-finetuned-squad/bert-base-multilingual-cased-finetuned-squad\"\n",
    "    BERTUX_tokenizer_name=\"../input/chaii-berts/bert-multi-uncased-finetuned-xquadv1/bert-multi-uncased-finetuned-xquadv1\"\n",
    "    REMBERT_tokenizer_name=\"../input/chaii-rembert/rembert_model/rembert\"\n",
    "    BERTCX_tokenizer_name=\"../input/chaii-berts/bert-multi-cased-finetuned-xquadv1/bert-multi-cased-finetuned-xquadv1\"\n",
    "    max_seq_length = 400\n",
    "    doc_stride = 135\n",
    "\n",
    "    # train\n",
    "    epochs = 1\n",
    "    train_batch_size = 4\n",
    "    eval_batch_size = 128\n",
    "\n",
    "    # optimzer\n",
    "    optimizer_type = 'AdamW'\n",
    "    learning_rate = 1e-5\n",
    "    weight_decay = 1e-2\n",
    "    epsilon = 1e-8\n",
    "    max_grad_norm = 1.0\n",
    "\n",
    "    # scheduler\n",
    "    decay_name = 'linear-warmup'\n",
    "    warmup_ratio = 0.1\n",
    "\n",
    "    # logging\n",
    "    logging_steps = 10\n",
    "\n",
    "    # evaluate\n",
    "    output_dir = 'output'\n",
    "    seed = 2021"
   ]
  },
  {
   "cell_type": "code",
   "execution_count": 4,
   "id": "8454949e",
   "metadata": {
    "execution": {
     "iopub.execute_input": "2021-11-15T20:07:46.904022Z",
     "iopub.status.busy": "2021-11-15T20:07:46.902894Z",
     "iopub.status.idle": "2021-11-15T20:07:46.906656Z",
     "shell.execute_reply": "2021-11-15T20:07:46.906252Z",
     "shell.execute_reply.started": "2021-11-15T20:04:36.007380Z"
    },
    "papermill": {
     "duration": 0.028243,
     "end_time": "2021-11-15T20:07:46.906762",
     "exception": false,
     "start_time": "2021-11-15T20:07:46.878519",
     "status": "completed"
    },
    "tags": []
   },
   "outputs": [],
   "source": [
    "# Dataset_Retriever class\n",
    "class Dataset_Retriever(Dataset):\n",
    "    def __init__(self, features, mode='train'):\n",
    "        super(Dataset_Retriever, self).__init__()\n",
    "        self.features = features\n",
    "        self.mode = mode\n",
    "        \n",
    "    def __len__(self):\n",
    "        return len(self.features)\n",
    "    \n",
    "    def __getitem__(self, item):   \n",
    "        feature = self.features[item]\n",
    "        if self.mode == 'train':\n",
    "            return {\n",
    "                'input_ids':torch.tensor(feature['input_ids'], dtype=torch.long),\n",
    "                'attention_mask':torch.tensor(feature['attention_mask'], dtype=torch.long),\n",
    "                'offset_mapping':torch.tensor(feature['offset_mapping'], dtype=torch.long),\n",
    "                'start_position':torch.tensor(feature['start_position'], dtype=torch.long),\n",
    "                'end_position':torch.tensor(feature['end_position'], dtype=torch.long)\n",
    "            }\n",
    "        else:\n",
    "            return {\n",
    "                'input_ids':torch.tensor(feature['input_ids'], dtype=torch.long),\n",
    "                'attention_mask':torch.tensor(feature['attention_mask'], dtype=torch.long),\n",
    "                'offset_mapping':feature['offset_mapping'],\n",
    "                'sequence_ids':feature['sequence_ids'],\n",
    "                'id':feature['example_id'],\n",
    "                'context': feature['context'],\n",
    "                'question': feature['question']\n",
    "            }"
   ]
  },
  {
   "cell_type": "markdown",
   "id": "a716b64e",
   "metadata": {
    "papermill": {
     "duration": 0.016199,
     "end_time": "2021-11-15T20:07:46.940630",
     "exception": false,
     "start_time": "2021-11-15T20:07:46.924431",
     "status": "completed"
    },
    "tags": []
   },
   "source": [
    "# Now Creating Model building class"
   ]
  },
  {
   "cell_type": "code",
   "execution_count": 5,
   "id": "f8d8e382",
   "metadata": {
    "execution": {
     "iopub.execute_input": "2021-11-15T20:07:46.982625Z",
     "iopub.status.busy": "2021-11-15T20:07:46.976966Z",
     "iopub.status.idle": "2021-11-15T20:07:46.984727Z",
     "shell.execute_reply": "2021-11-15T20:07:46.985096Z",
     "shell.execute_reply.started": "2021-11-15T20:04:36.025802Z"
    },
    "papermill": {
     "duration": 0.027896,
     "end_time": "2021-11-15T20:07:46.985261",
     "exception": false,
     "start_time": "2021-11-15T20:07:46.957365",
     "status": "completed"
    },
    "tags": []
   },
   "outputs": [],
   "source": [
    "class Model(nn.Module):\n",
    "    def __init__(self, modelname_or_path, config):\n",
    "        super(Model, self).__init__()\n",
    "        self.config = config\n",
    "        self.xlm_roberta = AutoModel.from_config(config=config)\n",
    "        self.qa_outputs = nn.Linear(config.hidden_size, 2)\n",
    "        self.dropout = nn.Dropout(config.hidden_dropout_prob)\n",
    "        self._init_weights(self.qa_outputs)\n",
    "        \n",
    "    def _init_weights(self, module):\n",
    "        if isinstance(module, nn.Linear):\n",
    "            module.weight.data.normal_(mean=0.0, std=self.config.initializer_range)\n",
    "            if module.bias is not None:\n",
    "                module.bias.data.zero_()\n",
    "\n",
    "    def forward(\n",
    "        self, \n",
    "        input_ids, \n",
    "        attention_mask=None, \n",
    "    ):\n",
    "        outputs = self.xlm_roberta(\n",
    "            input_ids,\n",
    "            attention_mask=attention_mask,\n",
    "        )\n",
    "\n",
    "        sequence_output = outputs[0]\n",
    "        pooled_output = outputs[1]\n",
    "        \n",
    "        # sequence_output = self.dropout(sequence_output)\n",
    "        qa_logits = self.qa_outputs(sequence_output)\n",
    "        \n",
    "        start_logits, end_logits = qa_logits.split(1, dim=-1)\n",
    "        start_logits = start_logits.squeeze(-1)\n",
    "        end_logits = end_logits.squeeze(-1)\n",
    "    \n",
    "        return start_logits, end_logits"
   ]
  },
  {
   "cell_type": "markdown",
   "id": "16254fb1",
   "metadata": {
    "papermill": {
     "duration": 0.016077,
     "end_time": "2021-11-15T20:07:47.018024",
     "exception": false,
     "start_time": "2021-11-15T20:07:47.001947",
     "status": "completed"
    },
    "tags": []
   },
   "source": [
    "# This making model function helping AutoConfig and AutoTokenizer the data"
   ]
  },
  {
   "cell_type": "code",
   "execution_count": 6,
   "id": "ecbf7e71",
   "metadata": {
    "execution": {
     "iopub.execute_input": "2021-11-15T20:07:47.054925Z",
     "iopub.status.busy": "2021-11-15T20:07:47.054194Z",
     "iopub.status.idle": "2021-11-15T20:07:47.056941Z",
     "shell.execute_reply": "2021-11-15T20:07:47.056503Z",
     "shell.execute_reply.started": "2021-11-15T20:04:36.043439Z"
    },
    "papermill": {
     "duration": 0.022782,
     "end_time": "2021-11-15T20:07:47.057045",
     "exception": false,
     "start_time": "2021-11-15T20:07:47.034263",
     "status": "completed"
    },
    "tags": []
   },
   "outputs": [],
   "source": [
    "def Make_Model(args):\n",
    "    config = AutoConfig.from_pretrained(args.REMBERT_config_name)\n",
    "    tokenizer = AutoTokenizer.from_pretrained(args.REMBERT_tokenizer_name)\n",
    "    model = Model(args.REMBERT_name_or_path, config=config)\n",
    "    return config, tokenizer, model"
   ]
  },
  {
   "cell_type": "code",
   "execution_count": 7,
   "id": "27fb3c87",
   "metadata": {
    "execution": {
     "iopub.execute_input": "2021-11-15T20:07:47.097894Z",
     "iopub.status.busy": "2021-11-15T20:07:47.097122Z",
     "iopub.status.idle": "2021-11-15T20:07:47.099339Z",
     "shell.execute_reply": "2021-11-15T20:07:47.099718Z",
     "shell.execute_reply.started": "2021-11-15T20:04:36.057465Z"
    },
    "papermill": {
     "duration": 0.025972,
     "end_time": "2021-11-15T20:07:47.099841",
     "exception": false,
     "start_time": "2021-11-15T20:07:47.073869",
     "status": "completed"
    },
    "tags": []
   },
   "outputs": [],
   "source": [
    "def Prepare_Test_Features(args, example, tokenizer):\n",
    "    example[\"question\"] = example[\"question\"].lstrip()\n",
    "    \n",
    "    tokenized_example = tokenizer(\n",
    "        example[\"question\"],\n",
    "        example[\"context\"],\n",
    "        truncation=\"only_second\",\n",
    "        max_length=args.max_seq_length,\n",
    "        stride=args.doc_stride,\n",
    "        return_overflowing_tokens=True,\n",
    "        return_offsets_mapping=True,\n",
    "        padding=\"max_length\",\n",
    "    )\n",
    "\n",
    "    features = []\n",
    "    for i in range(len(tokenized_example[\"input_ids\"])):\n",
    "        feature = {}\n",
    "        feature[\"example_id\"] = example['id']\n",
    "        feature['context'] = example['context']\n",
    "        feature['question'] = example['question']\n",
    "        feature['input_ids'] = tokenized_example['input_ids'][i]\n",
    "        feature['attention_mask'] = tokenized_example['attention_mask'][i]\n",
    "        feature['offset_mapping'] = tokenized_example['offset_mapping'][i]\n",
    "        feature['sequence_ids'] = [0 if i is None else i for i in tokenized_example.sequence_ids(i)]\n",
    "        features.append(feature)\n",
    "    return features"
   ]
  },
  {
   "cell_type": "markdown",
   "id": "e5ff470c",
   "metadata": {
    "papermill": {
     "duration": 0.016277,
     "end_time": "2021-11-15T20:07:47.132322",
     "exception": false,
     "start_time": "2021-11-15T20:07:47.116045",
     "status": "completed"
    },
    "tags": []
   },
   "source": [
    "# Now import collections lib and create function"
   ]
  },
  {
   "cell_type": "code",
   "execution_count": 8,
   "id": "11a470ba",
   "metadata": {
    "execution": {
     "iopub.execute_input": "2021-11-15T20:07:47.168460Z",
     "iopub.status.busy": "2021-11-15T20:07:47.167613Z",
     "iopub.status.idle": "2021-11-15T20:07:47.170671Z",
     "shell.execute_reply": "2021-11-15T20:07:47.170235Z",
     "shell.execute_reply.started": "2021-11-15T20:04:36.072336Z"
    },
    "papermill": {
     "duration": 0.022269,
     "end_time": "2021-11-15T20:07:47.170786",
     "exception": false,
     "start_time": "2021-11-15T20:07:47.148517",
     "status": "completed"
    },
    "tags": []
   },
   "outputs": [],
   "source": [
    "import collections"
   ]
  },
  {
   "cell_type": "code",
   "execution_count": 9,
   "id": "3f88b757",
   "metadata": {
    "execution": {
     "iopub.execute_input": "2021-11-15T20:07:47.218317Z",
     "iopub.status.busy": "2021-11-15T20:07:47.217521Z",
     "iopub.status.idle": "2021-11-15T20:07:47.219753Z",
     "shell.execute_reply": "2021-11-15T20:07:47.220234Z",
     "shell.execute_reply.started": "2021-11-15T20:04:36.089545Z"
    },
    "papermill": {
     "duration": 0.033324,
     "end_time": "2021-11-15T20:07:47.220361",
     "exception": false,
     "start_time": "2021-11-15T20:07:47.187037",
     "status": "completed"
    },
    "tags": []
   },
   "outputs": [],
   "source": [
    "def Postprocess_qa_predictions(examples, features, raw_predictions, n_best_size = 20, max_answer_length = 30):\n",
    "    all_start_logits, all_end_logits = raw_predictions\n",
    "    \n",
    "    example_id_to_index = {k: i for i, k in enumerate(examples[\"id\"])}\n",
    "    features_per_example = collections.defaultdict(list)\n",
    "    for i, feature in enumerate(features):\n",
    "        features_per_example[example_id_to_index[feature[\"example_id\"]]].append(i)\n",
    "\n",
    "    predictions = collections.OrderedDict()\n",
    "\n",
    "    print(f\"Post-processing {len(examples)} example predictions split into {len(features)} features.\")\n",
    "\n",
    "    for example_index, example in examples.iterrows():\n",
    "        feature_indices = features_per_example[example_index]\n",
    "\n",
    "        min_null_score = None\n",
    "        valid_answers = []\n",
    "        \n",
    "        context = example[\"context\"]\n",
    "        for feature_index in feature_indices:\n",
    "            start_logits = all_start_logits[feature_index]\n",
    "            end_logits = all_end_logits[feature_index]\n",
    "\n",
    "            sequence_ids = features[feature_index][\"sequence_ids\"]\n",
    "            context_index = 1\n",
    "\n",
    "            features[feature_index][\"offset_mapping\"] = [\n",
    "                (o if sequence_ids[k] == context_index else None)\n",
    "                for k, o in enumerate(features[feature_index][\"offset_mapping\"])\n",
    "            ]\n",
    "            offset_mapping = features[feature_index][\"offset_mapping\"]\n",
    "            cls_index = features[feature_index][\"input_ids\"].index(tokenizer.cls_token_id)\n",
    "            feature_null_score = start_logits[cls_index] + end_logits[cls_index]\n",
    "            if min_null_score is None or min_null_score < feature_null_score:\n",
    "                min_null_score = feature_null_score\n",
    "\n",
    "            start_indexes = np.argsort(start_logits)[-1 : -n_best_size - 1 : -1].tolist()\n",
    "            end_indexes = np.argsort(end_logits)[-1 : -n_best_size - 1 : -1].tolist()\n",
    "            for start_index in start_indexes:\n",
    "                for end_index in end_indexes:\n",
    "                    if (\n",
    "                        start_index >= len(offset_mapping)\n",
    "                        or end_index >= len(offset_mapping)\n",
    "                        or offset_mapping[start_index] is None\n",
    "                        or offset_mapping[end_index] is None\n",
    "                    ):\n",
    "                        continue\n",
    "                    # Don't consider answers with a length that is either < 0 or > max_answer_length.\n",
    "                    if end_index < start_index or end_index - start_index + 1 > max_answer_length:\n",
    "                        continue\n",
    "\n",
    "                    start_char = offset_mapping[start_index][0]\n",
    "                    end_char = offset_mapping[end_index][1]\n",
    "                    valid_answers.append(\n",
    "                        {\n",
    "                            \"score\": start_logits[start_index] + end_logits[end_index],\n",
    "                            \"text\": context[start_char: end_char]\n",
    "                        }\n",
    "                    )\n",
    "        \n",
    "        if len(valid_answers) > 0:\n",
    "            best_answer = sorted(valid_answers, key=lambda x: x[\"score\"], reverse=True)[0]\n",
    "        else:\n",
    "            best_answer = {\"text\": \"\", \"score\": 0.0}\n",
    "        \n",
    "        predictions[example[\"id\"]] = best_answer[\"text\"]\n",
    "        \n",
    "        \n",
    "    return predictions"
   ]
  },
  {
   "cell_type": "markdown",
   "id": "9a95195f",
   "metadata": {
    "papermill": {
     "duration": 0.016182,
     "end_time": "2021-11-15T20:07:47.252955",
     "exception": false,
     "start_time": "2021-11-15T20:07:47.236773",
     "status": "completed"
    },
    "tags": []
   },
   "source": [
    "# Now read test dataset"
   ]
  },
  {
   "cell_type": "code",
   "execution_count": 10,
   "id": "d398a64f",
   "metadata": {
    "execution": {
     "iopub.execute_input": "2021-11-15T20:07:47.289342Z",
     "iopub.status.busy": "2021-11-15T20:07:47.288618Z",
     "iopub.status.idle": "2021-11-15T20:07:47.303370Z",
     "shell.execute_reply": "2021-11-15T20:07:47.303755Z",
     "shell.execute_reply.started": "2021-11-15T20:04:36.114928Z"
    },
    "papermill": {
     "duration": 0.034717,
     "end_time": "2021-11-15T20:07:47.303880",
     "exception": false,
     "start_time": "2021-11-15T20:07:47.269163",
     "status": "completed"
    },
    "tags": []
   },
   "outputs": [],
   "source": [
    "test_df = pd.read_csv('../input/chaii-hindi-and-tamil-question-answering/test.csv')"
   ]
  },
  {
   "cell_type": "code",
   "execution_count": 11,
   "id": "fa41641a",
   "metadata": {
    "execution": {
     "iopub.execute_input": "2021-11-15T20:07:47.350244Z",
     "iopub.status.busy": "2021-11-15T20:07:47.349494Z",
     "iopub.status.idle": "2021-11-15T20:07:47.351747Z",
     "shell.execute_reply": "2021-11-15T20:07:47.352151Z",
     "shell.execute_reply.started": "2021-11-15T20:04:36.140676Z"
    },
    "papermill": {
     "duration": 0.031934,
     "end_time": "2021-11-15T20:07:47.352286",
     "exception": false,
     "start_time": "2021-11-15T20:07:47.320352",
     "status": "completed"
    },
    "tags": []
   },
   "outputs": [],
   "source": [
    "test_df['context'] = test_df['context'].apply(lambda x: ' '.join(x.split()))\n",
    "test_df['question'] = test_df['question'].apply(lambda x: ' '.join(x.split()))"
   ]
  },
  {
   "cell_type": "code",
   "execution_count": 12,
   "id": "01e69d4b",
   "metadata": {
    "execution": {
     "iopub.execute_input": "2021-11-15T20:07:47.393583Z",
     "iopub.status.busy": "2021-11-15T20:07:47.392956Z",
     "iopub.status.idle": "2021-11-15T20:07:48.568337Z",
     "shell.execute_reply": "2021-11-15T20:07:48.567788Z",
     "shell.execute_reply.started": "2021-11-15T20:04:36.163146Z"
    },
    "papermill": {
     "duration": 1.199737,
     "end_time": "2021-11-15T20:07:48.568466",
     "exception": false,
     "start_time": "2021-11-15T20:07:47.368729",
     "status": "completed"
    },
    "tags": []
   },
   "outputs": [],
   "source": [
    "\n",
    "tokenizer = AutoTokenizer.from_pretrained(Configration().REMBERT_tokenizer_name)\n",
    "\n",
    "test_features = []\n",
    "for i, row in test_df.iterrows():\n",
    "    \n",
    "    # Now Calling Function and Calling Class\n",
    "    \n",
    "    test_features += Prepare_Test_Features(Configration(), row, tokenizer)\n",
    "\n",
    "# Now Calling Classes\n",
    "\n",
    "args = Configration()\n",
    "test_dataset = Dataset_Retriever(test_features, mode='test')\n",
    "test_dataloader = DataLoader(\n",
    "    test_dataset,\n",
    "    batch_size=args.eval_batch_size, \n",
    "    sampler=SequentialSampler(test_dataset),\n",
    "    num_workers=optimal_num_of_loader_workers(),\n",
    "    pin_memory=True, \n",
    "    drop_last=False\n",
    ")"
   ]
  },
  {
   "cell_type": "code",
   "execution_count": 13,
   "id": "22156b81",
   "metadata": {
    "execution": {
     "iopub.execute_input": "2021-11-15T20:07:48.606665Z",
     "iopub.status.busy": "2021-11-15T20:07:48.605117Z",
     "iopub.status.idle": "2021-11-15T20:07:48.607328Z",
     "shell.execute_reply": "2021-11-15T20:07:48.607751Z",
     "shell.execute_reply.started": "2021-11-15T20:04:37.741855Z"
    },
    "papermill": {
     "duration": 0.022379,
     "end_time": "2021-11-15T20:07:48.607871",
     "exception": false,
     "start_time": "2021-11-15T20:07:48.585492",
     "status": "completed"
    },
    "tags": []
   },
   "outputs": [],
   "source": [
    "base_model = '../input/chaii-rembert/REMBERT/output/'"
   ]
  },
  {
   "cell_type": "markdown",
   "id": "ad095506",
   "metadata": {
    "papermill": {
     "duration": 0.01586,
     "end_time": "2021-11-15T20:07:48.639561",
     "exception": false,
     "start_time": "2021-11-15T20:07:48.623701",
     "status": "completed"
    },
    "tags": []
   },
   "source": [
    "# Now Create Get Prediction Function for helping the model "
   ]
  },
  {
   "cell_type": "code",
   "execution_count": 14,
   "id": "51a7cd67",
   "metadata": {
    "execution": {
     "iopub.execute_input": "2021-11-15T20:07:48.678879Z",
     "iopub.status.busy": "2021-11-15T20:07:48.678355Z",
     "iopub.status.idle": "2021-11-15T20:07:48.681964Z",
     "shell.execute_reply": "2021-11-15T20:07:48.681562Z",
     "shell.execute_reply.started": "2021-11-15T20:04:37.751866Z"
    },
    "papermill": {
     "duration": 0.026652,
     "end_time": "2021-11-15T20:07:48.682070",
     "exception": false,
     "start_time": "2021-11-15T20:07:48.655418",
     "status": "completed"
    },
    "tags": []
   },
   "outputs": [],
   "source": [
    "def Get_Predictions(checkpoint_path):\n",
    "    \n",
    "    # Calling Function Make_Model and Class Configration\n",
    "    \n",
    "    config, tokenizer, model = Make_Model(Configration())\n",
    "    model.cuda();\n",
    "    model.load_state_dict(\n",
    "        torch.load(base_model +  checkpoint_path)\n",
    "    );\n",
    "    \n",
    "    start_logits = []\n",
    "    end_logits = []\n",
    "    for batch in test_dataloader:\n",
    "        with torch.no_grad():\n",
    "            outputs_start, outputs_end = model(batch['input_ids'].cuda(), batch['attention_mask'].cuda())\n",
    "            start_logits.append(outputs_start.cpu().numpy().tolist())\n",
    "            end_logits.append(outputs_end.cpu().numpy().tolist())\n",
    "            del outputs_start, outputs_end\n",
    "    del model, tokenizer, config\n",
    "    gc.collect()\n",
    "    return np.vstack(start_logits), np.vstack(end_logits)"
   ]
  },
  {
   "cell_type": "markdown",
   "id": "960862c9",
   "metadata": {
    "papermill": {
     "duration": 0.015941,
     "end_time": "2021-11-15T20:07:48.714192",
     "exception": false,
     "start_time": "2021-11-15T20:07:48.698251",
     "status": "completed"
    },
    "tags": []
   },
   "source": [
    "# Now Calling Get Predictions Function"
   ]
  },
  {
   "cell_type": "code",
   "execution_count": 15,
   "id": "c37d835b",
   "metadata": {
    "execution": {
     "iopub.execute_input": "2021-11-15T20:07:48.753369Z",
     "iopub.status.busy": "2021-11-15T20:07:48.752684Z",
     "iopub.status.idle": "2021-11-15T20:10:43.960043Z",
     "shell.execute_reply": "2021-11-15T20:10:43.960536Z"
    },
    "papermill": {
     "duration": 175.230489,
     "end_time": "2021-11-15T20:10:43.960696",
     "exception": false,
     "start_time": "2021-11-15T20:07:48.730207",
     "status": "completed"
    },
    "tags": []
   },
   "outputs": [
    {
     "name": "stdout",
     "output_type": "stream",
     "text": [
      "Post-processing 5 example predictions split into 67 features.\n"
     ]
    }
   ],
   "source": [
    "start_logits1, end_logits1 = Get_Predictions('checkpoint-fold-0/pytorch_model.bin')\n",
    "start_logits2, end_logits2 = Get_Predictions('checkpoint-fold-1/pytorch_model.bin')\n",
    "start_logits3, end_logits3 = Get_Predictions('checkpoint-fold-2/pytorch_model.bin')\n",
    "start_logits4, end_logits4 = Get_Predictions('checkpoint-fold-3/pytorch_model.bin')\n",
    "start_logits5, end_logits5 = Get_Predictions('checkpoint-fold-4/pytorch_model.bin')\n",
    "\n",
    "\n",
    "\n",
    "start_logits = (start_logits1 + start_logits2 + start_logits3 + start_logits4+ start_logits5)/5\n",
    "end_logits = (end_logits1 + end_logits2 + end_logits3 + end_logits4 + end_logits5 )/5\n",
    "\n",
    "\n",
    "# Now Calling Function \n",
    "\n",
    "fin_preds = Postprocess_qa_predictions(test_df, test_features, (start_logits, end_logits))\n",
    "\n",
    "submission = []\n",
    "for p1, p2 in fin_preds.items():\n",
    "    p2 = \" \".join(p2.split())\n",
    "    p2 = p2.strip(punctuation)\n",
    "    submission.append((p1, p2))\n",
    "    \n",
    "sample = pd.DataFrame(submission, columns=[\"id\", \"PredictionString\"])\n",
    "\n",
    "test_data =pd.merge(left=test_df,right=sample,on='id')"
   ]
  },
  {
   "cell_type": "code",
   "execution_count": 16,
   "id": "1a37f2e9",
   "metadata": {
    "execution": {
     "iopub.execute_input": "2021-11-15T20:10:44.004502Z",
     "iopub.status.busy": "2021-11-15T20:10:44.003829Z",
     "iopub.status.idle": "2021-11-15T20:10:44.012252Z",
     "shell.execute_reply": "2021-11-15T20:10:44.011783Z"
    },
    "papermill": {
     "duration": 0.034832,
     "end_time": "2021-11-15T20:10:44.012365",
     "exception": false,
     "start_time": "2021-11-15T20:10:43.977533",
     "status": "completed"
    },
    "tags": []
   },
   "outputs": [],
   "source": [
    "bad_starts = [\".\", \",\", \"(\", \")\", \"-\", \"–\",  \",\", \";\"]\n",
    "bad_endings = [\"...\", \"-\", \"(\", \")\", \"–\", \",\", \";\"]\n",
    "\n",
    "tamil_ad = \"கி.பி\"\n",
    "tamil_bc = \"கி.மு\"\n",
    "tamil_km = \"கி.மீ\"\n",
    "hindi_ad = \"ई\"\n",
    "hindi_bc = \"ई.पू\"\n",
    "\n",
    "\n",
    "cleaned_preds = []\n",
    "for pred, context in test_data[[\"PredictionString\", \"context\"]].to_numpy():\n",
    "    if pred == \"\":\n",
    "        cleaned_preds.append(pred)\n",
    "        continue\n",
    "    while any([pred.startswith(y) for y in bad_starts]):\n",
    "        pred = pred[1:]\n",
    "    while any([pred.endswith(y) for y in bad_endings]):\n",
    "        if pred.endswith(\"...\"):\n",
    "            pred = pred[:-3]\n",
    "        else:\n",
    "            pred = pred[:-1]\n",
    "    if pred.endswith(\"...\"):\n",
    "            pred = pred[:-3]\n",
    "    \n",
    "    if any([pred.endswith(tamil_ad), pred.endswith(tamil_bc), pred.endswith(tamil_km), pred.endswith(hindi_ad), pred.endswith(hindi_bc)]) and pred+\".\" in context:\n",
    "        pred = pred+\".\"\n",
    "        \n",
    "    cleaned_preds.append(pred)\n",
    "\n",
    "test_data[\"PredictionString\"] = cleaned_preds\n",
    "test_data[['id', 'PredictionString']].to_csv('submission.csv', index=False)"
   ]
  },
  {
   "cell_type": "code",
   "execution_count": 17,
   "id": "25b3564d",
   "metadata": {
    "execution": {
     "iopub.execute_input": "2021-11-15T20:10:44.050651Z",
     "iopub.status.busy": "2021-11-15T20:10:44.049989Z",
     "iopub.status.idle": "2021-11-15T20:10:44.064348Z",
     "shell.execute_reply": "2021-11-15T20:10:44.064763Z"
    },
    "papermill": {
     "duration": 0.036068,
     "end_time": "2021-11-15T20:10:44.064891",
     "exception": false,
     "start_time": "2021-11-15T20:10:44.028823",
     "status": "completed"
    },
    "tags": []
   },
   "outputs": [
    {
     "data": {
      "text/html": [
       "<div>\n",
       "<style scoped>\n",
       "    .dataframe tbody tr th:only-of-type {\n",
       "        vertical-align: middle;\n",
       "    }\n",
       "\n",
       "    .dataframe tbody tr th {\n",
       "        vertical-align: top;\n",
       "    }\n",
       "\n",
       "    .dataframe thead th {\n",
       "        text-align: right;\n",
       "    }\n",
       "</style>\n",
       "<table border=\"1\" class=\"dataframe\">\n",
       "  <thead>\n",
       "    <tr style=\"text-align: right;\">\n",
       "      <th></th>\n",
       "      <th>id</th>\n",
       "      <th>context</th>\n",
       "      <th>question</th>\n",
       "      <th>language</th>\n",
       "      <th>PredictionString</th>\n",
       "    </tr>\n",
       "  </thead>\n",
       "  <tbody>\n",
       "    <tr>\n",
       "      <th>0</th>\n",
       "      <td>22bff3dec</td>\n",
       "      <td>ज्वाला गुट्टा (जन्म: 7 सितंबर 1983; वर्धा, महा...</td>\n",
       "      <td>ज्वाला गुट्टा की माँ का नाम क्या है</td>\n",
       "      <td>hindi</td>\n",
       "      <td>येलन</td>\n",
       "    </tr>\n",
       "    <tr>\n",
       "      <th>1</th>\n",
       "      <td>282758170</td>\n",
       "      <td>गूगल मानचित्र (Google Maps) (पूर्व में गूगल लो...</td>\n",
       "      <td>गूगल मैप्स कब लॉन्च किया गया था?</td>\n",
       "      <td>hindi</td>\n",
       "      <td>28 नवम्बर 2007</td>\n",
       "    </tr>\n",
       "    <tr>\n",
       "      <th>2</th>\n",
       "      <td>d60987e0e</td>\n",
       "      <td>गुस्ताव रॉबर्ट किरचॉफ़ (१२ मार्च १८२४ - १७ अक्...</td>\n",
       "      <td>गुस्ताव किरचॉफ का जन्म कब हुआ था?</td>\n",
       "      <td>hindi</td>\n",
       "      <td>१२ मार्च १८२४</td>\n",
       "    </tr>\n",
       "    <tr>\n",
       "      <th>3</th>\n",
       "      <td>f99c770dc</td>\n",
       "      <td>அலுமினியம் (ஆங்கிலம்: அலுமினியம்; வட அமெரிக்க ...</td>\n",
       "      <td>அலுமினியத்தின் அணு எண் என்ன?</td>\n",
       "      <td>tamil</td>\n",
       "      <td>13</td>\n",
       "    </tr>\n",
       "    <tr>\n",
       "      <th>4</th>\n",
       "      <td>40dec1964</td>\n",
       "      <td>கூட்டுறவு இயக்க வரலாறு, இங்கிலாந்து நாட்டில் ம...</td>\n",
       "      <td>இந்தியாவில் பசுமை புரட்சியின் தந்தை என்று கருத...</td>\n",
       "      <td>tamil</td>\n",
       "      <td>சுவாமிநாதன் மற்றும் வர்கீஸ் குரியன்</td>\n",
       "    </tr>\n",
       "  </tbody>\n",
       "</table>\n",
       "</div>"
      ],
      "text/plain": [
       "          id                                            context  \\\n",
       "0  22bff3dec  ज्वाला गुट्टा (जन्म: 7 सितंबर 1983; वर्धा, महा...   \n",
       "1  282758170  गूगल मानचित्र (Google Maps) (पूर्व में गूगल लो...   \n",
       "2  d60987e0e  गुस्ताव रॉबर्ट किरचॉफ़ (१२ मार्च १८२४ - १७ अक्...   \n",
       "3  f99c770dc  அலுமினியம் (ஆங்கிலம்: அலுமினியம்; வட அமெரிக்க ...   \n",
       "4  40dec1964  கூட்டுறவு இயக்க வரலாறு, இங்கிலாந்து நாட்டில் ம...   \n",
       "\n",
       "                                            question language  \\\n",
       "0                ज्वाला गुट्टा की माँ का नाम क्या है    hindi   \n",
       "1                   गूगल मैप्स कब लॉन्च किया गया था?    hindi   \n",
       "2                  गुस्ताव किरचॉफ का जन्म कब हुआ था?    hindi   \n",
       "3                       அலுமினியத்தின் அணு எண் என்ன?    tamil   \n",
       "4  இந்தியாவில் பசுமை புரட்சியின் தந்தை என்று கருத...    tamil   \n",
       "\n",
       "                      PredictionString  \n",
       "0                                 येलन  \n",
       "1                       28 नवम्बर 2007  \n",
       "2                        १२ मार्च १८२४  \n",
       "3                                   13  \n",
       "4  சுவாமிநாதன் மற்றும் வர்கீஸ் குரியன்  "
      ]
     },
     "execution_count": 17,
     "metadata": {},
     "output_type": "execute_result"
    }
   ],
   "source": [
    "test_data.head()"
   ]
  },
  {
   "cell_type": "code",
   "execution_count": null,
   "id": "aba32f8b",
   "metadata": {
    "papermill": {
     "duration": 0.016742,
     "end_time": "2021-11-15T20:10:44.098582",
     "exception": false,
     "start_time": "2021-11-15T20:10:44.081840",
     "status": "completed"
    },
    "tags": []
   },
   "outputs": [],
   "source": []
  }
 ],
 "metadata": {
  "kernelspec": {
   "display_name": "Python 3",
   "language": "python",
   "name": "python3"
  },
  "language_info": {
   "codemirror_mode": {
    "name": "ipython",
    "version": 3
   },
   "file_extension": ".py",
   "mimetype": "text/x-python",
   "name": "python",
   "nbconvert_exporter": "python",
   "pygments_lexer": "ipython3",
   "version": "3.7.10"
  },
  "papermill": {
   "default_parameters": {},
   "duration": 229.694393,
   "end_time": "2021-11-15T20:10:46.953450",
   "environment_variables": {},
   "exception": null,
   "input_path": "__notebook__.ipynb",
   "output_path": "__notebook__.ipynb",
   "parameters": {},
   "start_time": "2021-11-15T20:06:57.259057",
   "version": "2.3.3"
  }
 },
 "nbformat": 4,
 "nbformat_minor": 5
}
